{
 "cells": [
  {
   "cell_type": "markdown",
   "id": "b4e5d953",
   "metadata": {},
   "source": [
    "# Diabetes prediction using ML"
   ]
  },
  {
   "cell_type": "markdown",
   "id": "4ed7c622",
   "metadata": {},
   "source": [
    "We are going to predict if a person is likely to have diabetes using the insulin levels and the Logistic Regression model:"
   ]
  },
  {
   "cell_type": "code",
   "execution_count": null,
   "id": "456ac111",
   "metadata": {},
   "outputs": [],
   "source": [
    "import pandas as pd\n",
    "import numpy as np\n",
    "import seaborn as sns"
   ]
  },
  {
   "cell_type": "code",
   "execution_count": null,
   "id": "3f24ac2e",
   "metadata": {},
   "outputs": [],
   "source": [
    "df = pd.read_csv(\"diabetes2.csv\")"
   ]
  },
  {
   "cell_type": "code",
   "execution_count": null,
   "id": "ec417163",
   "metadata": {},
   "outputs": [],
   "source": [
    "df"
   ]
  },
  {
   "cell_type": "code",
   "execution_count": null,
   "id": "72fe384f",
   "metadata": {},
   "outputs": [],
   "source": [
    "df_insulin = df[[\"Insulin\", \"Outcome\"]]"
   ]
  },
  {
   "cell_type": "code",
   "execution_count": null,
   "id": "27883765",
   "metadata": {
    "scrolled": true
   },
   "outputs": [],
   "source": [
    "df_insulin"
   ]
  },
  {
   "cell_type": "markdown",
   "id": "4e949fd6",
   "metadata": {},
   "source": [
    "Dropping the rows with insulin = 0:"
   ]
  },
  {
   "cell_type": "code",
   "execution_count": null,
   "id": "2fe4261d",
   "metadata": {},
   "outputs": [],
   "source": [
    "list_drop = []\n",
    "\n",
    "for i in range(len(df[\"Insulin\"])):\n",
    "    if df[\"Insulin\"][i] == 0:\n",
    "        list_drop.append(i)\n",
    "        \n",
    "df_insulin = df_insulin.drop(list_drop)\n",
    "df_insulin"
   ]
  },
  {
   "cell_type": "markdown",
   "id": "3adc3448",
   "metadata": {},
   "source": [
    "The outcome 1 represents that the person is likely to have diabetes, and the outcome 0 is that the person is not likely. Let's train the Logistic Regression model:"
   ]
  },
  {
   "cell_type": "markdown",
   "id": "b5d788d4",
   "metadata": {},
   "source": [
    "Our data points:"
   ]
  },
  {
   "cell_type": "code",
   "execution_count": null,
   "id": "ab02fb6a",
   "metadata": {
    "scrolled": false
   },
   "outputs": [],
   "source": [
    "X = np.array(df_insulin[\"Insulin\"]).reshape(-1,1)\n",
    "X"
   ]
  },
  {
   "cell_type": "code",
   "execution_count": null,
   "id": "28e31b5d",
   "metadata": {},
   "outputs": [],
   "source": [
    "Y = np.array(df_insulin[\"Outcome\"])\n",
    "Y"
   ]
  },
  {
   "cell_type": "code",
   "execution_count": null,
   "id": "411bb771",
   "metadata": {},
   "outputs": [],
   "source": [
    "from sklearn import linear_model"
   ]
  },
  {
   "cell_type": "code",
   "execution_count": null,
   "id": "fc1dd9ee",
   "metadata": {},
   "outputs": [],
   "source": [
    "log_reg_diabetes = linear_model.LogisticRegression()\n",
    "log_reg_diabetes.fit(X,Y)"
   ]
  },
  {
   "cell_type": "markdown",
   "id": "974480b9",
   "metadata": {},
   "source": [
    "Let's make a prediction:"
   ]
  },
  {
   "cell_type": "code",
   "execution_count": null,
   "id": "ce887f02",
   "metadata": {},
   "outputs": [],
   "source": [
    "prediction = log_reg_diabetes.predict(np.array([200]).reshape(-1,1))\n",
    "if prediction[0] == 0:\n",
    "    print(\"Not likely to have diabetes!\")\n",
    "else:\n",
    "    print(\"Likely to have diabetes!\")"
   ]
  },
  {
   "cell_type": "markdown",
   "id": "472c83e8",
   "metadata": {},
   "source": [
    "Let's talk about the odds of having diabetes:"
   ]
  },
  {
   "cell_type": "code",
   "execution_count": null,
   "id": "ed186d5e",
   "metadata": {},
   "outputs": [],
   "source": [
    "log_reg_diabetes_log_odds = log_reg_diabetes.coef_\n",
    "odds = np.exp(log_reg_diabetes_log_odds)\n",
    "odds"
   ]
  },
  {
   "cell_type": "markdown",
   "id": "0efc8da4",
   "metadata": {},
   "source": [
    "As the insuline increases one point, the odds that the person is likely to have diabetes increases by 1.00571746 times."
   ]
  },
  {
   "cell_type": "markdown",
   "id": "77133843",
   "metadata": {},
   "source": [
    "Let's calculate the probability that the person is likely to have diabetes:"
   ]
  },
  {
   "cell_type": "code",
   "execution_count": null,
   "id": "b6c2ce84",
   "metadata": {},
   "outputs": [],
   "source": [
    "def probability(log_reg, X):\n",
    "    log_reg_log_odds = log_reg.coef_ * X + log_reg.intercept_\n",
    "    odds = np.exp(log_reg_log_odds)\n",
    "    prob = odds / (1 + odds)\n",
    "    return prob"
   ]
  },
  {
   "cell_type": "code",
   "execution_count": null,
   "id": "185654ac",
   "metadata": {},
   "outputs": [],
   "source": [
    "for i in X:\n",
    "    print(probability(log_reg_diabetes, np.array([i]).reshape(-1,1)))"
   ]
  },
  {
   "cell_type": "markdown",
   "id": "380e2fae",
   "metadata": {},
   "source": [
    "However, if we look at the graph of the insulin data points, we are going to see that the Logistic Regression is not a good model to predict this kind of disease, as the boundaries between the data points are not linear. The low number of data points is also responsible for generating not a great model after the learning."
   ]
  },
  {
   "cell_type": "code",
   "execution_count": null,
   "id": "73618b8e",
   "metadata": {
    "scrolled": true
   },
   "outputs": [],
   "source": [
    "import warnings\n",
    "warnings.filterwarnings(\"ignore\")"
   ]
  },
  {
   "cell_type": "code",
   "execution_count": null,
   "id": "57d714c1",
   "metadata": {
    "scrolled": false
   },
   "outputs": [],
   "source": [
    "sns.relplot(data = df_insulin.reset_index(), x = \"index\",  y = \"Insulin\", hue = \"Outcome\")"
   ]
  },
  {
   "cell_type": "markdown",
   "id": "b6376f24",
   "metadata": {},
   "source": [
    "Calculating the accuracy of the model, we have:"
   ]
  },
  {
   "cell_type": "markdown",
   "id": "0fad3946",
   "metadata": {},
   "source": [
    "Test_size should be around 0,1 if we have a small dataset, as we have, and around 0,2 if we have a bigger dataset."
   ]
  },
  {
   "cell_type": "code",
   "execution_count": null,
   "id": "93f56393",
   "metadata": {
    "scrolled": true
   },
   "outputs": [],
   "source": [
    "from sklearn.model_selection import train_test_split\n",
    "X_train, X_test, Y_train, Y_test = train_test_split(X, Y, test_size = 0.10, random_state = 1)"
   ]
  },
  {
   "cell_type": "code",
   "execution_count": null,
   "id": "5da82fd6",
   "metadata": {
    "scrolled": true
   },
   "outputs": [],
   "source": [
    "from sklearn.metrics import accuracy_score\n",
    "\n",
    "accuracy_score(Y_test, log_reg_diabetes.predict(X_test))"
   ]
  },
  {
   "cell_type": "markdown",
   "id": "1fe8068e",
   "metadata": {},
   "source": [
    "Low accuracy!"
   ]
  },
  {
   "cell_type": "markdown",
   "id": "a82b9e98",
   "metadata": {},
   "source": [
    "Using Deep Learning as Multilayer Perceptrons is a better option, as the boundaries are non-linear. So, let's use it!"
   ]
  },
  {
   "cell_type": "code",
   "execution_count": null,
   "id": "f9ddfff2",
   "metadata": {
    "scrolled": true
   },
   "outputs": [],
   "source": [
    "from sklearn.neural_network import MLPClassifier"
   ]
  },
  {
   "cell_type": "code",
   "execution_count": null,
   "id": "feb177d8",
   "metadata": {
    "scrolled": true
   },
   "outputs": [],
   "source": [
    "mlp_diabetes = MLPClassifier(hidden_layer_sizes = (768, 384), random_state = 6, verbose = True, activation = \"logistic\", learning_rate_init = 0.01)"
   ]
  },
  {
   "cell_type": "code",
   "execution_count": null,
   "id": "50238c04",
   "metadata": {},
   "outputs": [],
   "source": [
    "mlp_diabetes.fit(X_train, Y_train)"
   ]
  },
  {
   "cell_type": "code",
   "execution_count": null,
   "id": "d877e34c",
   "metadata": {},
   "outputs": [],
   "source": [
    "mlp_prediction = mlp_diabetes.predict(X_test)"
   ]
  },
  {
   "cell_type": "code",
   "execution_count": null,
   "id": "a498edfd",
   "metadata": {},
   "outputs": [],
   "source": [
    "accuracy_score(Y_test, mlp_prediction)"
   ]
  },
  {
   "cell_type": "markdown",
   "id": "195301db",
   "metadata": {},
   "source": [
    "The accuracy has improved!"
   ]
  },
  {
   "cell_type": "markdown",
   "id": "2e664428",
   "metadata": {},
   "source": [
    "To construct a even better MLP classification, we are going to fill the zeros at the insulin column using this specific model: \n",
    "\n",
    "1. Find the mean value (1) of the insulin that is not related to the presence of diabetes\n",
    "2. Doing the same for the value that is related to diabetes (mean value (2))\n",
    "3. Filling the zeros using (1) when the outcome is zero, and using (2) when the outcome is one.\n",
    "\n",
    "With this, we are going to have almost twice the data we already have... This will, probably, increase the accuracy of our model"
   ]
  },
  {
   "cell_type": "code",
   "execution_count": null,
   "id": "0ab014d0",
   "metadata": {
    "scrolled": true
   },
   "outputs": [],
   "source": [
    "df"
   ]
  },
  {
   "cell_type": "code",
   "execution_count": null,
   "id": "272eee1d",
   "metadata": {},
   "outputs": [],
   "source": [
    "df_insulin_new = df[[\"Insulin\", \"Outcome\"]]"
   ]
  },
  {
   "cell_type": "code",
   "execution_count": null,
   "id": "679a4b07",
   "metadata": {
    "scrolled": true
   },
   "outputs": [],
   "source": [
    "df_insulin_new"
   ]
  },
  {
   "cell_type": "code",
   "execution_count": null,
   "id": "5d290188",
   "metadata": {},
   "outputs": [],
   "source": [
    "df_insulin_new_yes = df_insulin_new[df_insulin_new[\"Outcome\"] == 1]\n",
    "df_insulin_new_yes_ = df_insulin_new_yes[df_insulin_new_yes[\"Insulin\"] != 0]\n",
    "mean_insulin_yes = df_insulin_new_yes_.mean()[0]\n",
    "mean_insulin_yes"
   ]
  },
  {
   "cell_type": "code",
   "execution_count": null,
   "id": "e1abb8f9",
   "metadata": {},
   "outputs": [],
   "source": [
    "df_insulin_new_no = df_insulin_new[df_insulin_new[\"Outcome\"] == 0]\n",
    "df_insulin_new_no_ = df_insulin_new_no[df_insulin_new_no[\"Insulin\"] != 0]\n",
    "mean_insulin_no = df_insulin_new_no_.mean()[0]\n",
    "mean_insulin_no"
   ]
  },
  {
   "cell_type": "code",
   "execution_count": null,
   "id": "b045be71",
   "metadata": {
    "scrolled": false
   },
   "outputs": [],
   "source": [
    "insulin_series = df_insulin_new[\"Insulin\"]\n",
    "insulin_series"
   ]
  },
  {
   "cell_type": "code",
   "execution_count": null,
   "id": "9ccbc50f",
   "metadata": {
    "scrolled": true
   },
   "outputs": [],
   "source": [
    "import warnings\n",
    "warnings.filterwarnings(\"ignore\")"
   ]
  },
  {
   "cell_type": "code",
   "execution_count": null,
   "id": "52f6ef84",
   "metadata": {
    "scrolled": true
   },
   "outputs": [],
   "source": [
    "for c in range(len(insulin_series)):\n",
    "    if ((insulin_series[c] == 0) & (df_insulin_new[\"Outcome\"] == 1))[c]:\n",
    "        insulin_series[c] = mean_insulin_yes\n",
    "    elif ((insulin_series[c] == 0) & (df_insulin_new[\"Outcome\"] == 0))[c]:\n",
    "        insulin_series[c] = mean_insulin_no\n",
    "    else:\n",
    "        continue"
   ]
  },
  {
   "cell_type": "code",
   "execution_count": null,
   "id": "140fd395",
   "metadata": {
    "scrolled": true
   },
   "outputs": [],
   "source": [
    "df_insulin_new"
   ]
  },
  {
   "cell_type": "markdown",
   "id": "43d518c6",
   "metadata": {},
   "source": [
    "Now, the dataframe is able to be used for our learning:"
   ]
  },
  {
   "cell_type": "code",
   "execution_count": null,
   "id": "8ed84bfc",
   "metadata": {},
   "outputs": [],
   "source": [
    "X = np.array(insulin_series).reshape(-1,1)\n",
    "X"
   ]
  },
  {
   "cell_type": "code",
   "execution_count": null,
   "id": "0ce56558",
   "metadata": {
    "scrolled": true
   },
   "outputs": [],
   "source": [
    "Y = np.array(df_insulin_new[\"Outcome\"])\n",
    "Y"
   ]
  },
  {
   "cell_type": "code",
   "execution_count": null,
   "id": "2e7b20f1",
   "metadata": {},
   "outputs": [],
   "source": [
    "X_train, X_test, Y_train, Y_test = train_test_split(X, Y, test_size = 0.10, random_state = 1)"
   ]
  },
  {
   "cell_type": "code",
   "execution_count": null,
   "id": "14abf416",
   "metadata": {},
   "outputs": [],
   "source": [
    "mlp_diabetes_new = MLPClassifier(hidden_layer_sizes = (768, 384), random_state = 6, verbose = True, activation = \"logistic\", learning_rate_init = 0.01)"
   ]
  },
  {
   "cell_type": "code",
   "execution_count": null,
   "id": "c2f13925",
   "metadata": {
    "scrolled": false
   },
   "outputs": [],
   "source": [
    "mlp_diabetes_new.fit(X_train, Y_train)"
   ]
  },
  {
   "cell_type": "code",
   "execution_count": null,
   "id": "0015c4a2",
   "metadata": {
    "scrolled": true
   },
   "outputs": [],
   "source": [
    "accuracy_score(Y_test, mlp_diabetes_new.predict(X_test))"
   ]
  },
  {
   "cell_type": "markdown",
   "id": "4f7c033f",
   "metadata": {},
   "source": [
    "So, we have a even better result, with a great improvement! "
   ]
  }
 ],
 "metadata": {
  "kernelspec": {
   "display_name": "Python 3 (ipykernel)",
   "language": "python",
   "name": "python3"
  },
  "language_info": {
   "codemirror_mode": {
    "name": "ipython",
    "version": 3
   },
   "file_extension": ".py",
   "mimetype": "text/x-python",
   "name": "python",
   "nbconvert_exporter": "python",
   "pygments_lexer": "ipython3",
   "version": "3.11.5"
  }
 },
 "nbformat": 4,
 "nbformat_minor": 5
}
