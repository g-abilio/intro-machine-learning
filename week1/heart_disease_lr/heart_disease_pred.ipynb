{
 "cells": [
  {
   "cell_type": "markdown",
   "id": "450d312f",
   "metadata": {},
   "source": [
    "# Using Machine Learning to predict heart disease"
   ]
  },
  {
   "cell_type": "markdown",
   "id": "feca123c",
   "metadata": {},
   "source": [
    "Here, we are going to train a Logistic Regression model to predict coronary heart disease (CHD) in 10 years using systolic blood pressure (sysBP) and diastolic blood pressure (diaBP) data."
   ]
  },
  {
   "cell_type": "code",
   "execution_count": null,
   "id": "ba4199b3",
   "metadata": {},
   "outputs": [],
   "source": [
    "import numpy as np\n",
    "import pandas as pd"
   ]
  },
  {
   "cell_type": "code",
   "execution_count": null,
   "id": "67a7cd93",
   "metadata": {},
   "outputs": [],
   "source": [
    "df = pd.read_csv(\"par_disease.csv\")"
   ]
  },
  {
   "cell_type": "code",
   "execution_count": null,
   "id": "9995c4c8",
   "metadata": {
    "scrolled": true
   },
   "outputs": [],
   "source": [
    "df = df[[\"sysBP\", \"diaBP\", \"TenYearCHD\"]]\n",
    "df"
   ]
  },
  {
   "cell_type": "markdown",
   "id": "727331e9",
   "metadata": {},
   "source": [
    "Removing the NaN:"
   ]
  },
  {
   "cell_type": "code",
   "execution_count": null,
   "id": "b8603dda",
   "metadata": {},
   "outputs": [],
   "source": [
    "df = df.dropna()"
   ]
  },
  {
   "cell_type": "code",
   "execution_count": null,
   "id": "889f7598",
   "metadata": {},
   "outputs": [],
   "source": [
    "df.reset_index()"
   ]
  },
  {
   "cell_type": "code",
   "execution_count": null,
   "id": "1a1919f0",
   "metadata": {
    "scrolled": true
   },
   "outputs": [],
   "source": [
    "df.info()"
   ]
  },
  {
   "cell_type": "markdown",
   "id": "b5307f0c",
   "metadata": {},
   "source": [
    "Creating our training data:"
   ]
  },
  {
   "cell_type": "code",
   "execution_count": null,
   "id": "37c3d8ed",
   "metadata": {
    "scrolled": false
   },
   "outputs": [],
   "source": [
    "data_elements = set(df.columns) - set([\"TenYearCHD\"])"
   ]
  },
  {
   "cell_type": "code",
   "execution_count": null,
   "id": "d3866dcf",
   "metadata": {},
   "outputs": [],
   "source": [
    "X = df[[\"sysBP\", \"diaBP\"]]\n",
    "X"
   ]
  },
  {
   "cell_type": "code",
   "execution_count": null,
   "id": "f6399e7e",
   "metadata": {
    "scrolled": true
   },
   "outputs": [],
   "source": [
    "Y = df[\"TenYearCHD\"]\n",
    "Y"
   ]
  },
  {
   "cell_type": "markdown",
   "id": "d7bd4c80",
   "metadata": {},
   "source": [
    "Dividing between training data and testing data:"
   ]
  },
  {
   "cell_type": "markdown",
   "id": "c7bb5698",
   "metadata": {},
   "source": [
    "Training the model:"
   ]
  },
  {
   "cell_type": "code",
   "execution_count": null,
   "id": "af6d81ac",
   "metadata": {
    "scrolled": true
   },
   "outputs": [],
   "source": [
    "from sklearn import linear_model"
   ]
  },
  {
   "cell_type": "code",
   "execution_count": null,
   "id": "6a6e125a",
   "metadata": {},
   "outputs": [],
   "source": [
    "log_reg_chd = linear_model.LogisticRegression()"
   ]
  },
  {
   "cell_type": "code",
   "execution_count": null,
   "id": "b592862a",
   "metadata": {
    "scrolled": false
   },
   "outputs": [],
   "source": [
    "log_reg_chd.fit(X_train,Y_train)"
   ]
  },
  {
   "cell_type": "markdown",
   "id": "d952315c",
   "metadata": {},
   "source": [
    "Let's predict:"
   ]
  },
  {
   "cell_type": "code",
   "execution_count": null,
   "id": "1219b874",
   "metadata": {
    "scrolled": true
   },
   "outputs": [],
   "source": [
    "prediction = log_reg_chd.predict(X_test)"
   ]
  },
  {
   "cell_type": "markdown",
   "id": "271eec2a",
   "metadata": {},
   "source": [
    "Let's see a very likely person to have CHD in ten years:"
   ]
  },
  {
   "cell_type": "code",
   "execution_count": null,
   "id": "26bf1d6d",
   "metadata": {
    "scrolled": true
   },
   "outputs": [],
   "source": [
    "X_test[X_test[\"sysBP\"] > 200]"
   ]
  },
  {
   "cell_type": "code",
   "execution_count": null,
   "id": "190d8f33",
   "metadata": {
    "scrolled": true
   },
   "outputs": [],
   "source": [
    "pred_individual = log_reg_chd.predict(X[1189:1190])\n",
    "pred_individual"
   ]
  },
  {
   "cell_type": "markdown",
   "id": "b2e66439",
   "metadata": {},
   "source": [
    "Right on point!"
   ]
  },
  {
   "cell_type": "markdown",
   "id": "a8345425",
   "metadata": {},
   "source": [
    "Let's see the accuracy:"
   ]
  },
  {
   "cell_type": "code",
   "execution_count": null,
   "id": "6ef17646",
   "metadata": {},
   "outputs": [],
   "source": [
    "from sklearn.metrics import accuracy_score"
   ]
  },
  {
   "cell_type": "code",
   "execution_count": null,
   "id": "23cbcad9",
   "metadata": {},
   "outputs": [],
   "source": [
    "from sklearn.model_selection import train_test_split\n",
    "\n",
    "X_train, X_test, Y_train, Y_test = train_test_split(X, Y, test_size = 0.2)"
   ]
  },
  {
   "cell_type": "code",
   "execution_count": null,
   "id": "5beefaa6",
   "metadata": {
    "scrolled": false
   },
   "outputs": [],
   "source": [
    "accuracy_score(Y_test, prediction)"
   ]
  },
  {
   "cell_type": "markdown",
   "id": "55e99dd8",
   "metadata": {},
   "source": [
    "86,67 % of accuracy"
   ]
  },
  {
   "cell_type": "markdown",
   "id": "c9797a05",
   "metadata": {},
   "source": [
    "Plotting the data points to see the data boundaries:"
   ]
  },
  {
   "cell_type": "code",
   "execution_count": null,
   "id": "bbe40bf7",
   "metadata": {},
   "outputs": [],
   "source": [
    "import seaborn as sns\n",
    "import warnings\n",
    "warnings.filterwarnings(\"ignore\")"
   ]
  },
  {
   "cell_type": "code",
   "execution_count": null,
   "id": "f9c429ef",
   "metadata": {
    "scrolled": true
   },
   "outputs": [],
   "source": [
    "sns.relplot(data = df.reset_index(), x = \"diaBP\", y = \"sysBP\", hue = \"TenYearCHD\")"
   ]
  },
  {
   "cell_type": "markdown",
   "id": "93fa0ece",
   "metadata": {},
   "source": [
    "Although the data boundary is not linear, it was possible to have 86,67 % of accuracy!"
   ]
  },
  {
   "cell_type": "markdown",
   "id": "fa9e4585",
   "metadata": {},
   "source": [
    "Trying another model: MLP"
   ]
  },
  {
   "cell_type": "code",
   "execution_count": null,
   "id": "58bea5cb",
   "metadata": {},
   "outputs": [],
   "source": [
    "from sklearn.neural_network import MLPClassifier"
   ]
  },
  {
   "cell_type": "code",
   "execution_count": null,
   "id": "26df365f",
   "metadata": {},
   "outputs": [],
   "source": [
    "mlp_chd = MLPClassifier(hidden_layer_sizes = (3,3), random_state = 5, learning_rate_init = 0.01, activation = \"logistic\", verbose = True)"
   ]
  },
  {
   "cell_type": "code",
   "execution_count": null,
   "id": "2a5b4e1d",
   "metadata": {},
   "outputs": [],
   "source": [
    "mlp_chd.fit(X_train, Y_train)"
   ]
  },
  {
   "cell_type": "code",
   "execution_count": null,
   "id": "0532bc1c",
   "metadata": {},
   "outputs": [],
   "source": [
    "mlp_prediction = mlp_chd.predict(X_test)"
   ]
  },
  {
   "cell_type": "code",
   "execution_count": null,
   "id": "21bd2274",
   "metadata": {},
   "outputs": [],
   "source": [
    "accuracy_score(Y_test, mlp_prediction)"
   ]
  },
  {
   "cell_type": "markdown",
   "id": "d6eb9573",
   "metadata": {},
   "source": [
    "87 % of accuracy, which reflects that non-linear data boundaries are more suitable for MLP than for LR"
   ]
  }
 ],
 "metadata": {
  "kernelspec": {
   "display_name": "Python 3 (ipykernel)",
   "language": "python",
   "name": "python3"
  },
  "language_info": {
   "codemirror_mode": {
    "name": "ipython",
    "version": 3
   },
   "file_extension": ".py",
   "mimetype": "text/x-python",
   "name": "python",
   "nbconvert_exporter": "python",
   "pygments_lexer": "ipython3",
   "version": "3.11.5"
  }
 },
 "nbformat": 4,
 "nbformat_minor": 5
}
