{
 "cells": [
  {
   "cell_type": "markdown",
   "id": "09719ed0",
   "metadata": {},
   "source": [
    "# Using CNN to detect digits (MNIST DS)"
   ]
  },
  {
   "cell_type": "code",
   "execution_count": 10,
   "id": "e366f91f",
   "metadata": {},
   "outputs": [],
   "source": [
    "import tensorflow as tf\n",
    "import keras\n",
    "from keras.models import Sequential\n",
    "from keras.layers import Dense, Dropout, Activation, Flatten, Convolution2D, MaxPooling2D"
   ]
  },
  {
   "cell_type": "markdown",
   "id": "5e642359",
   "metadata": {},
   "source": [
    "Uploading the dataset"
   ]
  },
  {
   "cell_type": "code",
   "execution_count": 11,
   "id": "2c394f88",
   "metadata": {},
   "outputs": [],
   "source": [
    "mnist = tf.keras.datasets.mnist"
   ]
  },
  {
   "cell_type": "code",
   "execution_count": 12,
   "id": "047cec49",
   "metadata": {},
   "outputs": [],
   "source": [
    "(x_train, y_train), (x_test, y_test) = mnist.load_data()"
   ]
  },
  {
   "cell_type": "code",
   "execution_count": 13,
   "id": "07250863",
   "metadata": {
    "scrolled": true
   },
   "outputs": [],
   "source": [
    "x_train = x_train / 255\n",
    "x_test = x_test / 255"
   ]
  },
  {
   "cell_type": "markdown",
   "id": "7882b23d",
   "metadata": {},
   "source": [
    "Creating the model and training"
   ]
  },
  {
   "cell_type": "code",
   "execution_count": 14,
   "id": "b943f172",
   "metadata": {},
   "outputs": [],
   "source": [
    "model = Sequential()\n",
    "\n",
    "#First Layer\n",
    "model.add(Convolution2D(128, (3,3),input_shape=(28,28,1)))\n",
    "model.add(MaxPooling2D(pool_size=(2,2)))\n",
    "\n",
    "#Second Layer\n",
    "model.add(Convolution2D(128, (3,3),input_shape=(28,28,1)))\n",
    "model.add(MaxPooling2D(pool_size=(2,2)))\n",
    "\n",
    "#Third Layer\n",
    "model.add(Flatten())\n",
    "model.add(Dense(64))\n",
    "\n",
    "#Classification\n",
    "model.add(Dense(10))\n",
    "model.add(Activation('sigmoid'))\n",
    "\n",
    "model.compile(loss=tf.keras.losses.SparseCategoricalCrossentropy(from_logits = True), optimizer = 'adam', metrics = ['accuracy'])"
   ]
  },
  {
   "cell_type": "code",
   "execution_count": 15,
   "id": "e818476f",
   "metadata": {
    "scrolled": true
   },
   "outputs": [
    {
     "name": "stdout",
     "output_type": "stream",
     "text": [
      "Epoch 1/10\n",
      "422/422 [==============================] - 36s 84ms/step - loss: 0.1780 - accuracy: 0.9474 - val_loss: 0.0675 - val_accuracy: 0.9817\n",
      "Epoch 2/10\n",
      "422/422 [==============================] - 41s 98ms/step - loss: 0.0642 - accuracy: 0.9801 - val_loss: 0.0627 - val_accuracy: 0.9830\n",
      "Epoch 3/10\n",
      "422/422 [==============================] - 45s 106ms/step - loss: 0.0479 - accuracy: 0.9849 - val_loss: 0.0536 - val_accuracy: 0.9857\n",
      "Epoch 4/10\n",
      "422/422 [==============================] - 44s 104ms/step - loss: 0.0374 - accuracy: 0.9881 - val_loss: 0.0548 - val_accuracy: 0.9837\n",
      "Epoch 5/10\n",
      "422/422 [==============================] - 46s 109ms/step - loss: 0.0330 - accuracy: 0.9895 - val_loss: 0.0543 - val_accuracy: 0.9870\n",
      "Epoch 6/10\n",
      "422/422 [==============================] - 28s 66ms/step - loss: 0.0295 - accuracy: 0.9906 - val_loss: 0.0895 - val_accuracy: 0.9798\n",
      "Epoch 7/10\n",
      "422/422 [==============================] - 27s 64ms/step - loss: 0.0240 - accuracy: 0.9919 - val_loss: 0.0631 - val_accuracy: 0.9852\n",
      "Epoch 8/10\n",
      "422/422 [==============================] - 28s 67ms/step - loss: 0.0189 - accuracy: 0.9940 - val_loss: 0.0554 - val_accuracy: 0.9868\n",
      "Epoch 9/10\n",
      "422/422 [==============================] - 27s 65ms/step - loss: 0.0170 - accuracy: 0.9940 - val_loss: 0.0659 - val_accuracy: 0.9867\n",
      "Epoch 10/10\n",
      "422/422 [==============================] - 27s 64ms/step - loss: 0.0190 - accuracy: 0.9934 - val_loss: 0.0698 - val_accuracy: 0.9838\n"
     ]
    },
    {
     "data": {
      "text/plain": [
       "<keras.src.callbacks.History at 0x2a1d163d0>"
      ]
     },
     "execution_count": 15,
     "metadata": {},
     "output_type": "execute_result"
    }
   ],
   "source": [
    "model.fit(x_train, y_train, batch_size = 128, validation_split = 0.1, epochs = 10)"
   ]
  },
  {
   "cell_type": "markdown",
   "id": "ec1dcbe7",
   "metadata": {},
   "source": [
    "Now, let's see the evaluation of the model:"
   ]
  },
  {
   "cell_type": "code",
   "execution_count": 17,
   "id": "7bdb9747",
   "metadata": {},
   "outputs": [
    {
     "name": "stdout",
     "output_type": "stream",
     "text": [
      "313/313 [==============================] - 2s 6ms/step - loss: 0.0702 - accuracy: 0.9836\n"
     ]
    },
    {
     "data": {
      "text/plain": [
       "[0.07017321139574051, 0.9836000204086304]"
      ]
     },
     "execution_count": 17,
     "metadata": {},
     "output_type": "execute_result"
    }
   ],
   "source": [
    "model.evaluate(x_test, y_test)"
   ]
  },
  {
   "cell_type": "markdown",
   "id": "146d49cd",
   "metadata": {},
   "source": [
    "98,4 % of accuracy!"
   ]
  }
 ],
 "metadata": {
  "kernelspec": {
   "display_name": "Python 3 (ipykernel)",
   "language": "python",
   "name": "python3"
  },
  "language_info": {
   "codemirror_mode": {
    "name": "ipython",
    "version": 3
   },
   "file_extension": ".py",
   "mimetype": "text/x-python",
   "name": "python",
   "nbconvert_exporter": "python",
   "pygments_lexer": "ipython3",
   "version": "3.11.5"
  }
 },
 "nbformat": 4,
 "nbformat_minor": 5
}
