{
 "cells": [
  {
   "cell_type": "markdown",
   "id": "57079c43",
   "metadata": {},
   "source": [
    "# Predicting digits using MNIST dataset "
   ]
  },
  {
   "cell_type": "code",
   "execution_count": 1,
   "id": "611344dd",
   "metadata": {},
   "outputs": [],
   "source": [
    "import numpy as np\n",
    "import matplotlib.pyplot as plt\n",
    "import torch\n",
    "from tqdm.notebook import tqdm"
   ]
  },
  {
   "cell_type": "markdown",
   "id": "9361ef42-998a-4ffc-87ba-d8f54bb2663b",
   "metadata": {},
   "source": [
    "Uploading the dataset"
   ]
  },
  {
   "cell_type": "code",
   "execution_count": 2,
   "id": "8a0708ef-1e26-43c5-b39c-b29b18c55e2e",
   "metadata": {},
   "outputs": [],
   "source": [
    "from torchvision import datasets, transforms\n",
    "\n",
    "mnist_train = datasets.MNIST(root = \"./week2\", transform = transforms.ToTensor(), train = True, download = True)\n",
    "mnist_test = datasets.MNIST(root = \"./week2\", transform = transforms.ToTensor(), train = False, download = True)"
   ]
  },
  {
   "cell_type": "code",
   "execution_count": 3,
   "id": "8e9410fd-7f59-492b-b68a-6d78710035d6",
   "metadata": {},
   "outputs": [
    {
     "name": "stdout",
     "output_type": "stream",
     "text": [
      "Number of data points in the train set: 60000\n",
      "Number of data points in the test set: 10000\n"
     ]
    }
   ],
   "source": [
    "print(f\"Number of data points in the train set: {len(mnist_train)}\")\n",
    "print(f\"Number of data points in the test set: {len(mnist_test)}\")"
   ]
  },
  {
   "cell_type": "markdown",
   "id": "34fbda4c-61f8-4c9e-9065-c4525726109f",
   "metadata": {},
   "source": [
    "Let's see the fourth image in the train dataset:"
   ]
  },
  {
   "cell_type": "code",
   "execution_count": 4,
   "id": "57b6b6a2-e326-46d0-8b38-14911c6256f1",
   "metadata": {
    "scrolled": true
   },
   "outputs": [
    {
     "name": "stdout",
     "output_type": "stream",
     "text": [
      "The image shape is: torch.Size([1, 28, 28])\n",
      "The image is:\n",
      "The label is: 1\n"
     ]
    },
    {
     "data": {
      "image/png": "[encoded data removed]",
      "text/plain": [
       "<Figure size 640x480 with 1 Axes>"
      ]
     },
     "metadata": {},
     "output_type": "display_data"
    }
   ],
   "source": [
    "image, label = mnist_train[3]\n",
    "print(f\"The image shape is: {image.shape}\")\n",
    "image = image.reshape([28,28])\n",
    "print(\"The image is:\")\n",
    "plt.imshow(image, cmap = \"gray\")\n",
    "\n",
    "print(f\"The label is: {label}\")"
   ]
  },
  {
   "cell_type": "markdown",
   "id": "3f1dc2e4-a0a8-4070-a407-4588389dbf9a",
   "metadata": {},
   "source": [
    "Making the size of the batch and using it shuffling the training data:t"
   ]
  },
  {
   "cell_type": "code",
   "execution_count": 5,
   "id": "dab0bba9-37a1-49b4-b034-ce5ab3f7b9a9",
   "metadata": {},
   "outputs": [],
   "source": [
    "train_loader = torch.utils.data.DataLoader(mnist_train, batch_size = 100, shuffle = True)\n",
    "test_loader = torch.utils.data.DataLoader(mnist_test, batch_size = 100, shuffle = False)"
   ]
  },
  {
   "cell_type": "markdown",
   "id": "66a31aa4-8ff4-4127-b2fc-c4c79f535e89",
   "metadata": {},
   "source": [
    "Minibatch from a DataLoader:"
   ]
  },
  {
   "cell_type": "code",
   "execution_count": 6,
   "id": "a21d3699-d907-429c-9824-945b384d1097",
   "metadata": {},
   "outputs": [
    {
     "name": "stdout",
     "output_type": "stream",
     "text": [
      "Minibatch for the images: \n",
      "tensor([[[[0., 0., 0.,  ..., 0., 0., 0.],\n",
      "          [0., 0., 0.,  ..., 0., 0., 0.],\n",
      "          [0., 0., 0.,  ..., 0., 0., 0.],\n",
      "          ...,\n",
      "          [0., 0., 0.,  ..., 0., 0., 0.],\n",
      "          [0., 0., 0.,  ..., 0., 0., 0.],\n",
      "          [0., 0., 0.,  ..., 0., 0., 0.]]],\n",
      "\n",
      "\n",
      "        [[[0., 0., 0.,  ..., 0., 0., 0.],\n",
      "          [0., 0., 0.,  ..., 0., 0., 0.],\n",
      "          [0., 0., 0.,  ..., 0., 0., 0.],\n",
      "          ...,\n",
      "          [0., 0., 0.,  ..., 0., 0., 0.],\n",
      "          [0., 0., 0.,  ..., 0., 0., 0.],\n",
      "          [0., 0., 0.,  ..., 0., 0., 0.]]],\n",
      "\n",
      "\n",
      "        [[[0., 0., 0.,  ..., 0., 0., 0.],\n",
      "          [0., 0., 0.,  ..., 0., 0., 0.],\n",
      "          [0., 0., 0.,  ..., 0., 0., 0.],\n",
      "          ...,\n",
      "          [0., 0., 0.,  ..., 0., 0., 0.],\n",
      "          [0., 0., 0.,  ..., 0., 0., 0.],\n",
      "          [0., 0., 0.,  ..., 0., 0., 0.]]],\n",
      "\n",
      "\n",
      "        ...,\n",
      "\n",
      "\n",
      "        [[[0., 0., 0.,  ..., 0., 0., 0.],\n",
      "          [0., 0., 0.,  ..., 0., 0., 0.],\n",
      "          [0., 0., 0.,  ..., 0., 0., 0.],\n",
      "          ...,\n",
      "          [0., 0., 0.,  ..., 0., 0., 0.],\n",
      "          [0., 0., 0.,  ..., 0., 0., 0.],\n",
      "          [0., 0., 0.,  ..., 0., 0., 0.]]],\n",
      "\n",
      "\n",
      "        [[[0., 0., 0.,  ..., 0., 0., 0.],\n",
      "          [0., 0., 0.,  ..., 0., 0., 0.],\n",
      "          [0., 0., 0.,  ..., 0., 0., 0.],\n",
      "          ...,\n",
      "          [0., 0., 0.,  ..., 0., 0., 0.],\n",
      "          [0., 0., 0.,  ..., 0., 0., 0.],\n",
      "          [0., 0., 0.,  ..., 0., 0., 0.]]],\n",
      "\n",
      "\n",
      "        [[[0., 0., 0.,  ..., 0., 0., 0.],\n",
      "          [0., 0., 0.,  ..., 0., 0., 0.],\n",
      "          [0., 0., 0.,  ..., 0., 0., 0.],\n",
      "          ...,\n",
      "          [0., 0., 0.,  ..., 0., 0., 0.],\n",
      "          [0., 0., 0.,  ..., 0., 0., 0.],\n",
      "          [0., 0., 0.,  ..., 0., 0., 0.]]]])\n",
      "Minibatch for the labels: \n",
      "tensor([9, 3, 3, 6, 7, 1, 1, 9, 3, 6, 9, 3, 2, 5, 4, 5, 6, 2, 7, 2, 3, 6, 4, 8,\n",
      "        9, 5, 5, 3, 2, 7, 5, 3, 1, 0, 5, 9, 1, 0, 5, 7, 1, 1, 3, 0, 7, 1, 5, 9,\n",
      "        9, 8, 3, 7, 9, 9, 1, 8, 6, 7, 7, 7, 5, 3, 7, 7, 6, 2, 0, 3, 9, 0, 9, 1,\n",
      "        7, 8, 9, 4, 1, 8, 8, 7, 7, 1, 7, 8, 7, 9, 4, 7, 4, 6, 1, 5, 9, 2, 0, 1,\n",
      "        5, 0, 0, 3])\n"
     ]
    }
   ],
   "source": [
    "data_train_iter = iter(train_loader)\n",
    "image, label = next(data_train_iter)\n",
    "\n",
    "print(f\"Minibatch for the images: \\n{image}\")\n",
    "print(f\"Minibatch for the labels: \\n{label}\")"
   ]
  },
  {
   "cell_type": "markdown",
   "id": "6d308571-85d8-484f-9156-9dd4f52ac5b2",
   "metadata": {},
   "source": [
    "Seeing the index 0 from the batch:"
   ]
  },
  {
   "cell_type": "code",
   "execution_count": 7,
   "id": "097315ca-c55d-463c-906e-964489602337",
   "metadata": {},
   "outputs": [
    {
     "name": "stdout",
     "output_type": "stream",
     "text": [
      "This corresponds to the label: 9\n"
     ]
    },
    {
     "data": {
      "image/png": "[encoded data removed]",
      "text/plain": [
       "<Figure size 640x480 with 1 Axes>"
      ]
     },
     "metadata": {},
     "output_type": "display_data"
    }
   ],
   "source": [
    "image_0 = image[0].reshape([28,28])\n",
    "plt.imshow(image_0, cmap = \"gray\")\n",
    "print(f\"This corresponds to the label: {label[0]}\")"
   ]
  },
  {
   "cell_type": "markdown",
   "id": "1ed6b0ef-8ee6-4a88-953c-60bc03947ef5",
   "metadata": {},
   "source": [
    "## Logistic Regression model"
   ]
  },
  {
   "cell_type": "markdown",
   "id": "9c44c8be-6bf7-4f0f-9483-fb1792304dc7",
   "metadata": {},
   "source": [
    "Flattening the data inputs:"
   ]
  },
  {
   "cell_type": "code",
   "execution_count": 8,
   "id": "2eb15601-8302-4655-9cbf-a54562dcc68a",
   "metadata": {},
   "outputs": [
    {
     "name": "stdout",
     "output_type": "stream",
     "text": [
      "Shape of the data inputs: torch.Size([100, 784])\n"
     ]
    }
   ],
   "source": [
    "x = image.view(-1, 28*28)\n",
    "print(f\"Shape of the data inputs: {x.shape}\")"
   ]
  },
  {
   "cell_type": "markdown",
   "id": "278cbe08-aa14-4e0c-b9e8-05af47df422c",
   "metadata": {},
   "source": [
    "W is going to be our vector of parameters, and b our vector of bias. Let's initialize W in a random form and fill B with zeros:"
   ]
  },
  {
   "cell_type": "code",
   "execution_count": 9,
   "id": "c8f508d8-0402-4f4d-b8a5-80dadf621a97",
   "metadata": {},
   "outputs": [],
   "source": [
    "W = torch.randn(784, 10)/np.sqrt(784)\n",
    "W.requires_grad_()\n",
    "\n",
    "b = torch.zeros(10, requires_grad=True)"
   ]
  },
  {
   "cell_type": "markdown",
   "id": "bcadcfa6-cf85-4236-90d2-a279d1612b0f",
   "metadata": {},
   "source": [
    "Computing y = XW + b, we have:"
   ]
  },
  {
   "cell_type": "code",
   "execution_count": 10,
   "id": "67c97a77-13e9-42c2-9eb2-74055935e7f8",
   "metadata": {},
   "outputs": [],
   "source": [
    "y = torch.matmul(x, W) + b"
   ]
  },
  {
   "cell_type": "code",
   "execution_count": 11,
   "id": "f7f250d3-bc72-4225-9972-80fb9a328766",
   "metadata": {},
   "outputs": [
    {
     "data": {
      "text/plain": [
       "tensor([-0.1172,  0.0282, -0.3676, -0.1759,  0.0021,  0.0751, -0.0742, -0.3111,\n",
       "         0.2589, -0.0861], grad_fn=<SliceBackward0>)"
      ]
     },
     "execution_count": 11,
     "metadata": {},
     "output_type": "execute_result"
    }
   ],
   "source": [
    "y[0, :]"
   ]
  },
  {
   "cell_type": "markdown",
   "id": "f9d6ec1b-f878-44ce-a18b-2532c9ff1fbf",
   "metadata": {},
   "source": [
    "Normalizing the y:"
   ]
  },
  {
   "cell_type": "code",
   "execution_count": 12,
   "id": "62d54d47-aab9-4ec9-945e-ed0189d17cd3",
   "metadata": {},
   "outputs": [
    {
     "data": {
      "text/plain": [
       "tensor([0.0946, 0.1094, 0.0736, 0.0892, 0.1066, 0.1146, 0.0987, 0.0779, 0.1378,\n",
       "        0.0976], grad_fn=<SliceBackward0>)"
      ]
     },
     "execution_count": 12,
     "metadata": {},
     "output_type": "execute_result"
    }
   ],
   "source": [
    "py = torch.nn.functional.softmax(y, dim = 1)\n",
    "py[0, :]"
   ]
  },
  {
   "cell_type": "code",
   "execution_count": 13,
   "id": "5d8027f5-2c04-403b-bbed-d7753fda112c",
   "metadata": {},
   "outputs": [
    {
     "data": {
      "text/plain": [
       "<matplotlib.image.AxesImage at 0x13d061b80>"
      ]
     },
     "execution_count": 13,
     "metadata": {},
     "output_type": "execute_result"
    },
    {
     "data": {
      "image/png": "[encoded data removed]",
      "text/plain": [
       "<Figure size 640x480 with 1 Axes>"
      ]
     },
     "metadata": {},
     "output_type": "display_data"
    }
   ],
   "source": [
    "plt.imshow(x[0].reshape([28,28]))"
   ]
  },
  {
   "cell_type": "markdown",
   "id": "4c68f7b5-d330-4098-bf7d-10e38d23c96e",
   "metadata": {},
   "source": [
    "The prediction is not good because W and b are filled with random numbers. Now, we have to train our model to obtain better parameters"
   ]
  },
  {
   "cell_type": "markdown",
   "id": "4e2fee85-f8a4-4596-a880-2a1f639b1abd",
   "metadata": {},
   "source": [
    "Implementing the loss function (here, the cross-entropy loss):"
   ]
  },
  {
   "cell_type": "code",
   "execution_count": 14,
   "id": "8924f7a0-e4a8-4854-93c1-9251bdd53528",
   "metadata": {},
   "outputs": [],
   "source": [
    "cross_entropy_loss = torch.nn.functional.cross_entropy(y, label)"
   ]
  },
  {
   "cell_type": "markdown",
   "id": "4e7f328a-588c-4026-855b-21071edaa09b",
   "metadata": {},
   "source": [
    "Now, to train the model, we are going to use backpropagation, that is, updating our parameters using stochastic gradient descent (SGD). Let's go!"
   ]
  },
  {
   "cell_type": "code",
   "execution_count": 15,
   "id": "0dc9f77d-6e12-41e5-b4c1-a395ca67726f",
   "metadata": {},
   "outputs": [],
   "source": [
    "optimizer = torch.optim.SGD([W,b], lr = 0.1)"
   ]
  },
  {
   "cell_type": "code",
   "execution_count": 16,
   "id": "0872e3f4-7266-4f45-9091-630d26e6e08a",
   "metadata": {},
   "outputs": [],
   "source": [
    "cross_entropy_loss.backward()"
   ]
  },
  {
   "cell_type": "code",
   "execution_count": 17,
   "id": "d29e79fa-ceec-4402-a84d-466338c75e65",
   "metadata": {},
   "outputs": [
    {
     "data": {
      "text/plain": [
       "tensor([ 0.0177, -0.0264,  0.0475, -0.0115,  0.0332,  0.0218,  0.0128, -0.0964,\n",
       "         0.0690, -0.0676])"
      ]
     },
     "execution_count": 17,
     "metadata": {},
     "output_type": "execute_result"
    }
   ],
   "source": [
    "b.grad"
   ]
  },
  {
   "cell_type": "code",
   "execution_count": 18,
   "id": "176883ef-5bba-4771-901d-3a7c218ef23c",
   "metadata": {},
   "outputs": [],
   "source": [
    "optimizer.step()"
   ]
  },
  {
   "cell_type": "code",
   "execution_count": 19,
   "id": "bfe34664-b024-479e-a2aa-afb172834761",
   "metadata": {},
   "outputs": [],
   "source": [
    "optimizer.zero_grad()"
   ]
  },
  {
   "cell_type": "code",
   "execution_count": 20,
   "id": "feac2fda-751b-46a0-968c-30b3e7de2cb1",
   "metadata": {},
   "outputs": [],
   "source": [
    "b.grad"
   ]
  },
  {
   "cell_type": "markdown",
   "id": "10598d4e-92a9-41b8-b21d-8587b69aad27",
   "metadata": {},
   "source": [
    "Training the model for other minibatchs:"
   ]
  },
  {
   "cell_type": "code",
   "execution_count": 21,
   "id": "425c85bc-00b3-493f-b2c2-244d4b0828e7",
   "metadata": {},
   "outputs": [
    {
     "data": {
      "application/vnd.jupyter.widget-view+json": {
       "model_id": "2fd704e4204d4841b5f9357a99b0f9c5",
       "version_major": 2,
       "version_minor": 0
      },
      "text/plain": [
       "  0%|          | 0/600 [00:00<?, ?it/s]"
      ]
     },
     "metadata": {},
     "output_type": "display_data"
    }
   ],
   "source": [
    "for images, labels in tqdm(train_loader):\n",
    "    # Zero out the gradients\n",
    "    optimizer.zero_grad()\n",
    "    \n",
    "    # Forward pass\n",
    "    x = images.view(-1, 28*28)\n",
    "    y = torch.matmul(x, W) + b\n",
    "    cross_entropy_loss = torch.nn.functional.cross_entropy(y, labels)\n",
    "    \n",
    "    # Backward pass\n",
    "    cross_entropy_loss.backward()\n",
    "    optimizer.step()"
   ]
  },
  {
   "cell_type": "markdown",
   "id": "bc24704e-c7ee-4efd-ad8d-ce4cb3bd7674",
   "metadata": {},
   "source": [
    "Testing the model:"
   ]
  },
  {
   "cell_type": "code",
   "execution_count": 22,
   "id": "b91202de-b07f-416d-89a7-63ff1295800b",
   "metadata": {
    "scrolled": true
   },
   "outputs": [
    {
     "data": {
      "application/vnd.jupyter.widget-view+json": {
       "model_id": "6742515df97640d291a132265979035b",
       "version_major": 2,
       "version_minor": 0
      },
      "text/plain": [
       "  0%|          | 0/100 [00:00<?, ?it/s]"
      ]
     },
     "metadata": {},
     "output_type": "display_data"
    },
    {
     "name": "stdout",
     "output_type": "stream",
     "text": [
      "Test accuracy: 0.902899980545044\n"
     ]
    }
   ],
   "source": [
    "correct = 0\n",
    "total = len(mnist_test)\n",
    "\n",
    "with torch.no_grad():\n",
    "    # Iterate through test set minibatchs \n",
    "    for images, labels in tqdm(test_loader):\n",
    "        # Forward pass\n",
    "        x = images.view(-1, 28*28)\n",
    "        y = torch.matmul(x, W) + b\n",
    "        \n",
    "        predictions = torch.argmax(y, dim=1)\n",
    "        correct += torch.sum((predictions == labels).float())\n",
    "    \n",
    "print('Test accuracy: {}'.format(correct/total))"
   ]
  },
  {
   "cell_type": "markdown",
   "id": "bea8b090-4b4c-4331-af8f-85b2cf93fdf2",
   "metadata": {},
   "source": [
    "Plotting the weights:"
   ]
  },
  {
   "cell_type": "code",
   "execution_count": 23,
   "id": "7971dbf9-699f-4cc5-b55c-7303a9208f32",
   "metadata": {},
   "outputs": [
    {
     "data": {
      "image/png": "[encoded data removed]",
      "text/plain": [
       "<Figure size 2000x200 with 10 Axes>"
      ]
     },
     "metadata": {},
     "output_type": "display_data"
    }
   ],
   "source": [
    "fig, ax = plt.subplots(1, 10, figsize=(20, 2))\n",
    "\n",
    "for digit in range(10):\n",
    "    ax[digit].imshow(W[:,digit].detach().view(28,28), cmap='gray')"
   ]
  },
  {
   "cell_type": "markdown",
   "id": "e0dcb759-7234-4675-87e9-5657577eff2e",
   "metadata": {},
   "source": [
    "The full code is:"
   ]
  },
  {
   "cell_type": "code",
   "execution_count": 24,
   "id": "357ac387-abe8-4f96-ad88-09b46ac32040",
   "metadata": {},
   "outputs": [
    {
     "name": "stdout",
     "output_type": "stream",
     "text": [
      "Downloading http://yann.lecun.com/exdb/mnist/train-images-idx3-ubyte.gz\n",
      "Downloading http://yann.lecun.com/exdb/mnist/train-images-idx3-ubyte.gz to ./week2_fc/MNIST/raw/train-images-idx3-ubyte.gz\n"
     ]
    },
    {
     "name": "stderr",
     "output_type": "stream",
     "text": [
      "100%|█████████████████████████████| 9912422/9912422 [00:30<00:00, 323602.48it/s]\n"
     ]
    },
    {
     "name": "stdout",
     "output_type": "stream",
     "text": [
      "Extracting ./week2_fc/MNIST/raw/train-images-idx3-ubyte.gz to ./week2_fc/MNIST/raw\n",
      "\n",
      "Downloading http://yann.lecun.com/exdb/mnist/train-labels-idx1-ubyte.gz\n",
      "Downloading http://yann.lecun.com/exdb/mnist/train-labels-idx1-ubyte.gz to ./week2_fc/MNIST/raw/train-labels-idx1-ubyte.gz\n"
     ]
    },
    {
     "name": "stderr",
     "output_type": "stream",
     "text": [
      "100%|████████████████████████████████| 28881/28881 [00:00<00:00, 1133422.79it/s]\n"
     ]
    },
    {
     "name": "stdout",
     "output_type": "stream",
     "text": [
      "Extracting ./week2_fc/MNIST/raw/train-labels-idx1-ubyte.gz to ./week2_fc/MNIST/raw\n",
      "\n",
      "Downloading http://yann.lecun.com/exdb/mnist/t10k-images-idx3-ubyte.gz\n",
      "Downloading http://yann.lecun.com/exdb/mnist/t10k-images-idx3-ubyte.gz to ./week2_fc/MNIST/raw/t10k-images-idx3-ubyte.gz\n"
     ]
    },
    {
     "name": "stderr",
     "output_type": "stream",
     "text": [
      "100%|████████████████████████████| 1648877/1648877 [00:01<00:00, 1212924.87it/s]\n"
     ]
    },
    {
     "name": "stdout",
     "output_type": "stream",
     "text": [
      "Extracting ./week2_fc/MNIST/raw/t10k-images-idx3-ubyte.gz to ./week2_fc/MNIST/raw\n",
      "\n",
      "Downloading http://yann.lecun.com/exdb/mnist/t10k-labels-idx1-ubyte.gz\n",
      "Downloading http://yann.lecun.com/exdb/mnist/t10k-labels-idx1-ubyte.gz to ./week2_fc/MNIST/raw/t10k-labels-idx1-ubyte.gz\n"
     ]
    },
    {
     "name": "stderr",
     "output_type": "stream",
     "text": [
      "100%|███████████████████████████████████| 4542/4542 [00:00<00:00, 749371.76it/s]"
     ]
    },
    {
     "name": "stdout",
     "output_type": "stream",
     "text": [
      "Extracting ./week2_fc/MNIST/raw/t10k-labels-idx1-ubyte.gz to ./week2_fc/MNIST/raw\n",
      "\n"
     ]
    },
    {
     "name": "stderr",
     "output_type": "stream",
     "text": [
      "\n"
     ]
    },
    {
     "data": {
      "application/vnd.jupyter.widget-view+json": {
       "model_id": "2e95722ace7d4c4d8819891ca086dac8",
       "version_major": 2,
       "version_minor": 0
      },
      "text/plain": [
       "  0%|          | 0/600 [00:00<?, ?it/s]"
      ]
     },
     "metadata": {},
     "output_type": "display_data"
    },
    {
     "data": {
      "application/vnd.jupyter.widget-view+json": {
       "model_id": "500a57a3592c4057a4b3dcd8bd3f3e5c",
       "version_major": 2,
       "version_minor": 0
      },
      "text/plain": [
       "  0%|          | 0/100 [00:00<?, ?it/s]"
      ]
     },
     "metadata": {},
     "output_type": "display_data"
    },
    {
     "name": "stdout",
     "output_type": "stream",
     "text": [
      "Test accuracy: 0.9013000130653381\n"
     ]
    }
   ],
   "source": [
    "import numpy as np\n",
    "import torch\n",
    "import torch.nn.functional as F\n",
    "from torchvision import datasets, transforms\n",
    "from tqdm.notebook import tqdm\n",
    "\n",
    "# Load the data\n",
    "mnist_train = datasets.MNIST(root=\"./week2_fc\", train=True, transform=transforms.ToTensor(), download=True)\n",
    "mnist_test = datasets.MNIST(root=\"./week2_fc\", train=False, transform=transforms.ToTensor(), download=True)\n",
    "train_loader = torch.utils.data.DataLoader(mnist_train, batch_size=100, shuffle=True)\n",
    "test_loader = torch.utils.data.DataLoader(mnist_test, batch_size=100, shuffle=False)\n",
    "\n",
    "## Training\n",
    "# Initialize parameters\n",
    "W = torch.randn(784, 10)/np.sqrt(784)\n",
    "W.requires_grad_()\n",
    "b = torch.zeros(10, requires_grad=True)\n",
    "\n",
    "# Optimizer\n",
    "optimizer = torch.optim.SGD([W,b], lr=0.1)\n",
    "\n",
    "# Iterate through train set minibatchs \n",
    "for images, labels in tqdm(train_loader):\n",
    "    # Zero out the gradients\n",
    "    optimizer.zero_grad()\n",
    "    \n",
    "    # Forward pass\n",
    "    x = images.view(-1, 28*28)\n",
    "    y = torch.matmul(x, W) + b\n",
    "    cross_entropy = F.cross_entropy(y, labels)\n",
    "    # Backward pass\n",
    "    cross_entropy.backward()\n",
    "    optimizer.step()\n",
    "\n",
    "## Testing\n",
    "correct = 0\n",
    "total = len(mnist_test)\n",
    "\n",
    "with torch.no_grad():\n",
    "    # Iterate through test set minibatchs \n",
    "    for images, labels in tqdm(test_loader):\n",
    "        # Forward pass\n",
    "        x = images.view(-1, 28*28)\n",
    "        y = torch.matmul(x, W) + b\n",
    "        \n",
    "        predictions = torch.argmax(y, dim=1)\n",
    "        correct += torch.sum((predictions == labels).float())\n",
    "    \n",
    "print('Test accuracy: {}'.format(correct/total))"
   ]
  }
 ],
 "metadata": {
  "kernelspec": {
   "display_name": "Python 3 (ipykernel)",
   "language": "python",
   "name": "python3"
  },
  "language_info": {
   "codemirror_mode": {
    "name": "ipython",
    "version": 3
   },
   "file_extension": ".py",
   "mimetype": "text/x-python",
   "name": "python",
   "nbconvert_exporter": "python",
   "pygments_lexer": "ipython3",
   "version": "3.11.5"
  }
 },
 "nbformat": 4,
 "nbformat_minor": 5
}
